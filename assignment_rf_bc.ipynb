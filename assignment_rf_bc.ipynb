{
  "nbformat": 4,
  "nbformat_minor": 0,
  "metadata": {
    "colab": {
      "name": "assignment_rf_bc.ipynb",
      "provenance": [],
      "collapsed_sections": []
    },
    "kernelspec": {
      "name": "python3",
      "display_name": "Python 3"
    }
  },
  "cells": [
    {
      "cell_type": "code",
      "metadata": {
        "id": "C9T8r6ckG8jn",
        "colab_type": "code",
        "colab": {}
      },
      "source": [
        "import numpy as np\n",
        "import pandas as pd\n",
        "from sklearn.model_selection import train_test_split\n",
        "from sklearn.ensemble import RandomForestClassifier\n",
        "from sklearn.metrics import confusion_matrix"
      ],
      "execution_count": 0,
      "outputs": []
    },
    {
      "cell_type": "code",
      "metadata": {
        "id": "732c-GvfHP_N",
        "colab_type": "code",
        "colab": {}
      },
      "source": [
        "# train from example 03\n",
        "X_train_3 = pd.read_csv(\"example03-data.csv\",header=None)\n",
        "y_train_3 = pd.read_csv(\"example03-class.csv\", header=None) "
      ],
      "execution_count": 0,
      "outputs": []
    },
    {
      "cell_type": "code",
      "metadata": {
        "id": "DZ0VdS1gHVZ-",
        "colab_type": "code",
        "colab": {}
      },
      "source": [
        "# example 04\n",
        "X_train_4 = pd.read_csv(\"example04-data.csv\", header=None)\n",
        "y_train_4 = pd.read_csv(\"example04-class.csv\", header=None)"
      ],
      "execution_count": 0,
      "outputs": []
    },
    {
      "cell_type": "code",
      "metadata": {
        "id": "5a7vwqmIJdnC",
        "colab_type": "code",
        "colab": {}
      },
      "source": [
        "# last class, p mac's question\n",
        "# ajarn instructs us to use all of example 4 to train\n",
        "# and test with 50% of example 4 for both\n",
        "\n",
        "# the second model is being tested with seen data"
      ],
      "execution_count": 0,
      "outputs": []
    },
    {
      "cell_type": "code",
      "metadata": {
        "id": "U9GyTTnMHaj5",
        "colab_type": "code",
        "colab": {}
      },
      "source": [
        "# 50% of example 4 as test\n",
        "# splitting half\n",
        "X_train, X_test, y_train, y_test = train_test_split(\n",
        "    X_train_4, y_train_4, test_size=0.5, random_state=42)"
      ],
      "execution_count": 0,
      "outputs": []
    },
    {
      "cell_type": "code",
      "metadata": {
        "id": "LkrKToFUHez_",
        "colab_type": "code",
        "colab": {}
      },
      "source": [
        "# make array\n",
        "\n",
        "# b - eg3\n",
        "X_train_3 = np.asarray(X_train_3)\n",
        "y_train_3 = np.asarray(y_train_3)\n",
        "\n",
        "# c - eg4\n",
        "X_train_4 = np.asarray(X_train_4)\n",
        "y_train_4 = np.asarray(y_train_4)\n",
        "\n",
        "# shared - 50% of eg4\n",
        "X_test = np.asarray(X_test)\n",
        "y_test = np.asarray(y_test)"
      ],
      "execution_count": 0,
      "outputs": []
    },
    {
      "cell_type": "code",
      "metadata": {
        "id": "WKd1bRMEIZMU",
        "colab_type": "code",
        "colab": {}
      },
      "source": [
        "# random forest model\n",
        "# same model parameters on both datasets\n",
        "model = RandomForestClassifier(n_estimators=100, random_state=100, oob_score=True, max_features=5)"
      ],
      "execution_count": 0,
      "outputs": []
    },
    {
      "cell_type": "markdown",
      "metadata": {
        "id": "9PQdoESxHx79",
        "colab_type": "text"
      },
      "source": [
        "##### (B)"
      ]
    },
    {
      "cell_type": "code",
      "metadata": {
        "id": "sQ1LOLAYH5eH",
        "colab_type": "code",
        "colab": {
          "base_uri": "https://localhost:8080/",
          "height": 122
        },
        "outputId": "0e28ab45-564b-4b28-89b6-53ef5d7ad18f"
      },
      "source": [
        "forest_3 = model.fit(X_train_3, y_train_3)\n",
        "\n",
        "y_pred_3 = forest_3.predict(X_test)\n",
        "confusion = confusion_matrix(y_test,y_pred_3) \n",
        "print('Confusion Matrix : \\n', confusion)"
      ],
      "execution_count": 37,
      "outputs": [
        {
          "output_type": "stream",
          "text": [
            "Confusion Matrix : \n",
            " [[1 1]\n",
            " [1 2]]\n"
          ],
          "name": "stdout"
        },
        {
          "output_type": "stream",
          "text": [
            "/usr/local/lib/python3.6/dist-packages/ipykernel_launcher.py:1: DataConversionWarning: A column-vector y was passed when a 1d array was expected. Please change the shape of y to (n_samples,), for example using ravel().\n",
            "  \"\"\"Entry point for launching an IPython kernel.\n"
          ],
          "name": "stderr"
        }
      ]
    },
    {
      "cell_type": "code",
      "metadata": {
        "id": "EwCNcSwBI7Ig",
        "colab_type": "code",
        "colab": {
          "base_uri": "https://localhost:8080/",
          "height": 68
        },
        "outputId": "a06aa724-b5a0-4a56-b010-28b2bee033c1"
      },
      "source": [
        "# Plot confusion matrix-3\n",
        "cm3 = confusion_matrix(y_test,y_pred_3, labels=[1,-1])\n",
        "\n",
        "total = len(y_test)\n",
        "\n",
        "# from confusion matrix calculate accuracy\n",
        "accuracy=(cm3[0,0]+cm3[1,1])/total\n",
        "print ('Accuracy : ', accuracy)\n",
        "\n",
        "sensitivity = cm3[0,0]/(cm3[0,0]+cm3[0,1])\n",
        "print('Sensitivity : ', sensitivity)\n",
        "\n",
        "specificity = cm3[1,1]/(cm3[1,0]+cm3[1,1])\n",
        "print('Specificity : ', specificity)"
      ],
      "execution_count": 38,
      "outputs": [
        {
          "output_type": "stream",
          "text": [
            "Accuracy :  0.6\n",
            "Sensitivity :  0.6666666666666666\n",
            "Specificity :  0.5\n"
          ],
          "name": "stdout"
        }
      ]
    },
    {
      "cell_type": "markdown",
      "metadata": {
        "id": "iz8sClB_IRyR",
        "colab_type": "text"
      },
      "source": [
        "##### (C)"
      ]
    },
    {
      "cell_type": "code",
      "metadata": {
        "id": "PYWHmEXqIVYS",
        "colab_type": "code",
        "colab": {
          "base_uri": "https://localhost:8080/",
          "height": 122
        },
        "outputId": "28df7d9e-336d-4048-863e-c11b533c2bf4"
      },
      "source": [
        "forest_4 = model.fit(X_train_4, y_train_4)\n",
        "\n",
        "y_pred_4 = forest_4.predict(X_test)\n",
        "confusion = confusion_matrix(y_test,y_pred_4) \n",
        "print('Confusion Matrix : \\n', confusion)"
      ],
      "execution_count": 39,
      "outputs": [
        {
          "output_type": "stream",
          "text": [
            "Confusion Matrix : \n",
            " [[2 0]\n",
            " [0 3]]\n"
          ],
          "name": "stdout"
        },
        {
          "output_type": "stream",
          "text": [
            "/usr/local/lib/python3.6/dist-packages/ipykernel_launcher.py:1: DataConversionWarning: A column-vector y was passed when a 1d array was expected. Please change the shape of y to (n_samples,), for example using ravel().\n",
            "  \"\"\"Entry point for launching an IPython kernel.\n"
          ],
          "name": "stderr"
        }
      ]
    },
    {
      "cell_type": "code",
      "metadata": {
        "id": "QfQ-OoKII0_k",
        "colab_type": "code",
        "colab": {
          "base_uri": "https://localhost:8080/",
          "height": 68
        },
        "outputId": "0fbc8cd0-191e-404b-f44d-7403cc974d9b"
      },
      "source": [
        "# Plot confusion matrix-4\n",
        "cm4 = confusion_matrix(y_test,y_pred_4, labels=[1,-1])\n",
        "\n",
        "total = len(y_test)\n",
        "\n",
        "# from confusion matrix calculate accuracy\n",
        "accuracy=(cm4[0,0]+cm4[1,1])/total\n",
        "print ('Accuracy : ', accuracy)\n",
        "\n",
        "sensitivity = cm4[0,0]/(cm4[0,0]+cm4[0,1])\n",
        "print('Sensitivity : ', sensitivity)\n",
        "\n",
        "specificity = cm4[1,1]/(cm4[1,0]+cm4[1,1])\n",
        "print('Specificity : ', specificity)"
      ],
      "execution_count": 40,
      "outputs": [
        {
          "output_type": "stream",
          "text": [
            "Accuracy :  1.0\n",
            "Sensitivity :  1.0\n",
            "Specificity :  1.0\n"
          ],
          "name": "stdout"
        }
      ]
    },
    {
      "cell_type": "markdown",
      "metadata": {
        "id": "O75smW5LJxh3",
        "colab_type": "text"
      },
      "source": [
        "Assignment | Train Set | Train Size | Accuracy | Sensitivity | Specificity\n",
        "-|-|-|-|-|-\n",
        " B | example03 | 10 | 0.60 | 0.67 | 0.5\n",
        " C | example04 | 10 | 1.0 | 1.0 | 1.0"
      ]
    }
  ]
}